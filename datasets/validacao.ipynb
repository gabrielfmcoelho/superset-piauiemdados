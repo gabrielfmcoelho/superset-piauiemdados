{
 "cells": [
  {
   "cell_type": "code",
   "execution_count": 1,
   "metadata": {},
   "outputs": [],
   "source": [
    "import pandas as pd"
   ]
  },
  {
   "cell_type": "code",
   "execution_count": 2,
   "metadata": {},
   "outputs": [],
   "source": [
    "DATASETS_PATH = ''\n",
    "RAW_PATH = DATASETS_PATH + \"raw/\"\n",
    "PREPROCESSED_PATH = DATASETS_PATH + 'preprocessed/'\n",
    "\n",
    "ACTIVE_COMPANIES_FILE = RAW_PATH + 'empresas-ativas.csv'\n",
    "ACTIVE_COMPANIES_ACTIVITIES_FILE = RAW_PATH + 'empresas-ativas-atividades.csv'\n",
    "OPENING_COMPANIES_FILE = RAW_PATH + 'aberturas'\n",
    "OPENING_COMPANIES_ACTIVITIES_FILE = RAW_PATH + 'atividades-aberturas'\n",
    "OPENING_COMPANIES_TIME_SERIES_FILE = RAW_PATH + 'tempo-aberturas'\n",
    "\n",
    "ACTIVE_COMPANIES_COLUMNS = ['hash_chave', 'porte', 'cod_natureza', 'natureza', 'municipio', 'filial', 'qtd']\n",
    "ACTIVE_COMPANIES_ACTIVITIES_COLUMNS = ['hash_chave', 'cod_atividade', 'descr_atividade', 'principal', 'seguimento', 'qtd']\n",
    "OPENING_COMPANIES_COLUMNS = ['hash_chave_abertura', 'ano', 'mês', 'porte', 'cod_natureza', 'descr_natureza', 'municipio', 'filial', 'qtd']\n",
    "OPENING_COMPANIES_ACTIVITIES_COLUMNS = ['hash_chave_abertura', 'cod_atividade', 'descr_atividade', 'seguimento', 'qtd']\n",
    "OPENING_COMPANIES_TIME_SERIES_COLUMNS = ['ano', 'mês', 'serial', 'cod_natureza', 'natureza', 'municipio', 'cp_nome', 'cp_endereco', 'cp_total', 'registro']"
   ]
  },
  {
   "cell_type": "code",
   "execution_count": 3,
   "metadata": {},
   "outputs": [
    {
     "name": "stdout",
     "output_type": "stream",
     "text": [
      "['raw/aberturas-2018-1.csv', 'raw/aberturas-2018-2.csv', 'raw/aberturas-2018-3.csv', 'raw/aberturas-2018-4.csv', 'raw/aberturas-2018-5.csv', 'raw/aberturas-2018-6.csv', 'raw/aberturas-2018-7.csv', 'raw/aberturas-2018-8.csv', 'raw/aberturas-2018-9.csv', 'raw/aberturas-2018-10.csv', 'raw/aberturas-2018-11.csv', 'raw/aberturas-2018-12.csv', 'raw/aberturas-2019-1.csv', 'raw/aberturas-2019-2.csv', 'raw/aberturas-2019-3.csv', 'raw/aberturas-2019-4.csv', 'raw/aberturas-2019-5.csv', 'raw/aberturas-2019-6.csv', 'raw/aberturas-2019-7.csv', 'raw/aberturas-2019-8.csv', 'raw/aberturas-2019-9.csv', 'raw/aberturas-2019-10.csv', 'raw/aberturas-2019-11.csv', 'raw/aberturas-2019-12.csv', 'raw/aberturas-2020-1.csv', 'raw/aberturas-2020-2.csv', 'raw/aberturas-2020-3.csv', 'raw/aberturas-2020-4.csv', 'raw/aberturas-2020-5.csv', 'raw/aberturas-2020-6.csv', 'raw/aberturas-2020-7.csv', 'raw/aberturas-2020-8.csv', 'raw/aberturas-2020-9.csv', 'raw/aberturas-2020-10.csv', 'raw/aberturas-2020-11.csv', 'raw/aberturas-2020-12.csv', 'raw/aberturas-2021-1.csv', 'raw/aberturas-2021-2.csv', 'raw/aberturas-2021-3.csv', 'raw/aberturas-2021-4.csv', 'raw/aberturas-2021-5.csv', 'raw/aberturas-2021-6.csv', 'raw/aberturas-2021-7.csv', 'raw/aberturas-2021-8.csv', 'raw/aberturas-2021-9.csv', 'raw/aberturas-2021-10.csv', 'raw/aberturas-2021-11.csv', 'raw/aberturas-2021-12.csv', 'raw/aberturas-2022-1.csv', 'raw/aberturas-2022-2.csv', 'raw/aberturas-2022-3.csv', 'raw/aberturas-2022-4.csv', 'raw/aberturas-2022-5.csv', 'raw/aberturas-2022-6.csv', 'raw/aberturas-2022-7.csv', 'raw/aberturas-2022-8.csv', 'raw/aberturas-2022-9.csv', 'raw/aberturas-2022-10.csv', 'raw/aberturas-2022-11.csv', 'raw/aberturas-2022-12.csv', 'raw/aberturas-2023-1.csv', 'raw/aberturas-2023-2.csv', 'raw/aberturas-2023-3.csv', 'raw/aberturas-2023-4.csv', 'raw/aberturas-2023-5.csv', 'raw/aberturas-2023-6.csv', 'raw/aberturas-2023-7.csv', 'raw/aberturas-2023-8.csv', 'raw/aberturas-2023-9.csv', 'raw/aberturas-2023-10.csv', 'raw/aberturas-2023-11.csv', 'raw/aberturas-2023-12.csv', 'raw/aberturas-2024-1.csv', 'raw/aberturas-2024-2.csv', 'raw/aberturas-2024-3.csv', 'raw/aberturas-2024-4.csv', 'raw/aberturas-2024-5.csv', 'raw/aberturas-2024-6.csv', 'raw/aberturas-2024-7.csv', 'raw/aberturas-2024-8.csv', 'raw/aberturas-2024-9.csv', 'raw/aberturas-2024-10.csv', 'raw/aberturas-2024-11.csv', 'raw/aberturas-2024-12.csv']\n",
      "['raw/atividades-aberturas-2018-1.csv', 'raw/atividades-aberturas-2018-2.csv', 'raw/atividades-aberturas-2018-3.csv', 'raw/atividades-aberturas-2018-4.csv', 'raw/atividades-aberturas-2018-5.csv', 'raw/atividades-aberturas-2018-6.csv', 'raw/atividades-aberturas-2018-7.csv', 'raw/atividades-aberturas-2018-8.csv', 'raw/atividades-aberturas-2018-9.csv', 'raw/atividades-aberturas-2018-10.csv', 'raw/atividades-aberturas-2018-11.csv', 'raw/atividades-aberturas-2018-12.csv', 'raw/atividades-aberturas-2019-1.csv', 'raw/atividades-aberturas-2019-2.csv', 'raw/atividades-aberturas-2019-3.csv', 'raw/atividades-aberturas-2019-4.csv', 'raw/atividades-aberturas-2019-5.csv', 'raw/atividades-aberturas-2019-6.csv', 'raw/atividades-aberturas-2019-7.csv', 'raw/atividades-aberturas-2019-8.csv', 'raw/atividades-aberturas-2019-9.csv', 'raw/atividades-aberturas-2019-10.csv', 'raw/atividades-aberturas-2019-11.csv', 'raw/atividades-aberturas-2019-12.csv', 'raw/atividades-aberturas-2020-1.csv', 'raw/atividades-aberturas-2020-2.csv', 'raw/atividades-aberturas-2020-3.csv', 'raw/atividades-aberturas-2020-4.csv', 'raw/atividades-aberturas-2020-5.csv', 'raw/atividades-aberturas-2020-6.csv', 'raw/atividades-aberturas-2020-7.csv', 'raw/atividades-aberturas-2020-8.csv', 'raw/atividades-aberturas-2020-9.csv', 'raw/atividades-aberturas-2020-10.csv', 'raw/atividades-aberturas-2020-11.csv', 'raw/atividades-aberturas-2020-12.csv', 'raw/atividades-aberturas-2021-1.csv', 'raw/atividades-aberturas-2021-2.csv', 'raw/atividades-aberturas-2021-3.csv', 'raw/atividades-aberturas-2021-4.csv', 'raw/atividades-aberturas-2021-5.csv', 'raw/atividades-aberturas-2021-6.csv', 'raw/atividades-aberturas-2021-7.csv', 'raw/atividades-aberturas-2021-8.csv', 'raw/atividades-aberturas-2021-9.csv', 'raw/atividades-aberturas-2021-10.csv', 'raw/atividades-aberturas-2021-11.csv', 'raw/atividades-aberturas-2021-12.csv', 'raw/atividades-aberturas-2022-1.csv', 'raw/atividades-aberturas-2022-2.csv', 'raw/atividades-aberturas-2022-3.csv', 'raw/atividades-aberturas-2022-4.csv', 'raw/atividades-aberturas-2022-5.csv', 'raw/atividades-aberturas-2022-6.csv', 'raw/atividades-aberturas-2022-7.csv', 'raw/atividades-aberturas-2022-8.csv', 'raw/atividades-aberturas-2022-9.csv', 'raw/atividades-aberturas-2022-10.csv', 'raw/atividades-aberturas-2022-11.csv', 'raw/atividades-aberturas-2022-12.csv', 'raw/atividades-aberturas-2023-1.csv', 'raw/atividades-aberturas-2023-2.csv', 'raw/atividades-aberturas-2023-3.csv', 'raw/atividades-aberturas-2023-4.csv', 'raw/atividades-aberturas-2023-5.csv', 'raw/atividades-aberturas-2023-6.csv', 'raw/atividades-aberturas-2023-7.csv', 'raw/atividades-aberturas-2023-8.csv', 'raw/atividades-aberturas-2023-9.csv', 'raw/atividades-aberturas-2023-10.csv', 'raw/atividades-aberturas-2023-11.csv', 'raw/atividades-aberturas-2023-12.csv', 'raw/atividades-aberturas-2024-1.csv', 'raw/atividades-aberturas-2024-2.csv', 'raw/atividades-aberturas-2024-3.csv', 'raw/atividades-aberturas-2024-4.csv', 'raw/atividades-aberturas-2024-5.csv', 'raw/atividades-aberturas-2024-6.csv', 'raw/atividades-aberturas-2024-7.csv', 'raw/atividades-aberturas-2024-8.csv', 'raw/atividades-aberturas-2024-9.csv', 'raw/atividades-aberturas-2024-10.csv', 'raw/atividades-aberturas-2024-11.csv', 'raw/atividades-aberturas-2024-12.csv']\n",
      "['raw/tempo-aberturas-2018-1.csv', 'raw/tempo-aberturas-2018-2.csv', 'raw/tempo-aberturas-2018-3.csv', 'raw/tempo-aberturas-2018-4.csv', 'raw/tempo-aberturas-2018-5.csv', 'raw/tempo-aberturas-2018-6.csv', 'raw/tempo-aberturas-2018-7.csv', 'raw/tempo-aberturas-2018-8.csv', 'raw/tempo-aberturas-2018-9.csv', 'raw/tempo-aberturas-2018-10.csv', 'raw/tempo-aberturas-2018-11.csv', 'raw/tempo-aberturas-2018-12.csv', 'raw/tempo-aberturas-2019-1.csv', 'raw/tempo-aberturas-2019-2.csv', 'raw/tempo-aberturas-2019-3.csv', 'raw/tempo-aberturas-2019-4.csv', 'raw/tempo-aberturas-2019-5.csv', 'raw/tempo-aberturas-2019-6.csv', 'raw/tempo-aberturas-2019-7.csv', 'raw/tempo-aberturas-2019-8.csv', 'raw/tempo-aberturas-2019-9.csv', 'raw/tempo-aberturas-2019-10.csv', 'raw/tempo-aberturas-2019-11.csv', 'raw/tempo-aberturas-2019-12.csv', 'raw/tempo-aberturas-2020-1.csv', 'raw/tempo-aberturas-2020-2.csv', 'raw/tempo-aberturas-2020-3.csv', 'raw/tempo-aberturas-2020-4.csv', 'raw/tempo-aberturas-2020-5.csv', 'raw/tempo-aberturas-2020-6.csv', 'raw/tempo-aberturas-2020-7.csv', 'raw/tempo-aberturas-2020-8.csv', 'raw/tempo-aberturas-2020-9.csv', 'raw/tempo-aberturas-2020-10.csv', 'raw/tempo-aberturas-2020-11.csv', 'raw/tempo-aberturas-2020-12.csv', 'raw/tempo-aberturas-2021-1.csv', 'raw/tempo-aberturas-2021-2.csv', 'raw/tempo-aberturas-2021-3.csv', 'raw/tempo-aberturas-2021-4.csv', 'raw/tempo-aberturas-2021-5.csv', 'raw/tempo-aberturas-2021-6.csv', 'raw/tempo-aberturas-2021-7.csv', 'raw/tempo-aberturas-2021-8.csv', 'raw/tempo-aberturas-2021-9.csv', 'raw/tempo-aberturas-2021-10.csv', 'raw/tempo-aberturas-2021-11.csv', 'raw/tempo-aberturas-2021-12.csv', 'raw/tempo-aberturas-2022-1.csv', 'raw/tempo-aberturas-2022-2.csv', 'raw/tempo-aberturas-2022-3.csv', 'raw/tempo-aberturas-2022-4.csv', 'raw/tempo-aberturas-2022-5.csv', 'raw/tempo-aberturas-2022-6.csv', 'raw/tempo-aberturas-2022-7.csv', 'raw/tempo-aberturas-2022-8.csv', 'raw/tempo-aberturas-2022-9.csv', 'raw/tempo-aberturas-2022-10.csv', 'raw/tempo-aberturas-2022-11.csv', 'raw/tempo-aberturas-2022-12.csv', 'raw/tempo-aberturas-2023-1.csv', 'raw/tempo-aberturas-2023-2.csv', 'raw/tempo-aberturas-2023-3.csv', 'raw/tempo-aberturas-2023-4.csv', 'raw/tempo-aberturas-2023-5.csv', 'raw/tempo-aberturas-2023-6.csv', 'raw/tempo-aberturas-2023-7.csv', 'raw/tempo-aberturas-2023-8.csv', 'raw/tempo-aberturas-2023-9.csv', 'raw/tempo-aberturas-2023-10.csv', 'raw/tempo-aberturas-2023-11.csv', 'raw/tempo-aberturas-2023-12.csv', 'raw/tempo-aberturas-2024-1.csv', 'raw/tempo-aberturas-2024-2.csv', 'raw/tempo-aberturas-2024-3.csv', 'raw/tempo-aberturas-2024-4.csv', 'raw/tempo-aberturas-2024-5.csv', 'raw/tempo-aberturas-2024-6.csv', 'raw/tempo-aberturas-2024-7.csv', 'raw/tempo-aberturas-2024-8.csv', 'raw/tempo-aberturas-2024-9.csv', 'raw/tempo-aberturas-2024-10.csv', 'raw/tempo-aberturas-2024-11.csv', 'raw/tempo-aberturas-2024-12.csv']\n"
     ]
    }
   ],
   "source": [
    "opening_companies_files = [f\"{OPENING_COMPANIES_FILE}-{year}-{month}.csv\" for year in range(2018, 2025) for month in range(1, 13)]\n",
    "print(opening_companies_files)\n",
    "opening_companies_activities_files = [f\"{OPENING_COMPANIES_ACTIVITIES_FILE}-{year}-{month}.csv\" for year in range(2018, 2025) for month in range(1, 13)]\n",
    "print(opening_companies_activities_files)\n",
    "opening_companies_time_series_files = [f\"{OPENING_COMPANIES_TIME_SERIES_FILE}-{year}-{month}.csv\" for year in range(2018, 2025) for month in range(1, 13)]\n",
    "print(opening_companies_time_series_files)"
   ]
  },
  {
   "cell_type": "code",
   "execution_count": 4,
   "metadata": {},
   "outputs": [],
   "source": [
    "def concatenate_files(files, columns, output_file_path):\n",
    "    df: pd.DataFrame | None = None\n",
    "    for file_path in files:\n",
    "        if df is None:\n",
    "            try:\n",
    "                df = pd.read_csv(file_path, sep=';', encoding='utf-8')\n",
    "            except Exception as e:\n",
    "                print(file_path)\n",
    "                print(e)\n",
    "                continue\n",
    "        else:\n",
    "            try:\n",
    "                _ = pd.read_csv(file_path, sep=';', encoding='utf-8')\n",
    "            except Exception as e:\n",
    "                print(file_path)\n",
    "                print(e)\n",
    "                continue\n",
    "            df = pd.concat([df, _])\n",
    "    print(columns)\n",
    "    try:\n",
    "        df.columns = columns\n",
    "    except Exception as e:\n",
    "        print(file_path)\n",
    "        print(df.columns)\n",
    "        raise \"error\"\n",
    "    df.to_csv(output_file_path, index=False, sep=\";\", decimal=\".\")\n",
    "\n",
    "def relabel_file(file_path, columns, output_file_path):\n",
    "    try:\n",
    "        df = pd.read_csv(file_path , sep=';', encoding='utf-8', decimal=',')\n",
    "    except Exception as e:\n",
    "        print(e)\n",
    "        pass\n",
    "    df.columns = columns\n",
    "    df.to_csv(output_file_path, index=False, sep=\";\", decimal=\".\")"
   ]
  },
  {
   "cell_type": "code",
   "execution_count": 5,
   "metadata": {},
   "outputs": [],
   "source": [
    "relabel_file(ACTIVE_COMPANIES_FILE, ACTIVE_COMPANIES_COLUMNS, f\"{ACTIVE_COMPANIES_FILE}-final.csv\")\n",
    "relabel_file(ACTIVE_COMPANIES_ACTIVITIES_FILE, ACTIVE_COMPANIES_ACTIVITIES_COLUMNS, f\"{ACTIVE_COMPANIES_ACTIVITIES_FILE}-final.csv\")"
   ]
  },
  {
   "cell_type": "code",
   "execution_count": 6,
   "metadata": {},
   "outputs": [
    {
     "name": "stdout",
     "output_type": "stream",
     "text": [
      "raw/aberturas-2024-5.csv\n",
      "[Errno 2] No such file or directory: 'raw/aberturas-2024-5.csv'\n",
      "raw/aberturas-2024-6.csv\n",
      "[Errno 2] No such file or directory: 'raw/aberturas-2024-6.csv'\n",
      "raw/aberturas-2024-7.csv\n",
      "[Errno 2] No such file or directory: 'raw/aberturas-2024-7.csv'\n",
      "raw/aberturas-2024-8.csv\n",
      "[Errno 2] No such file or directory: 'raw/aberturas-2024-8.csv'\n",
      "raw/aberturas-2024-9.csv\n",
      "[Errno 2] No such file or directory: 'raw/aberturas-2024-9.csv'\n",
      "raw/aberturas-2024-10.csv\n",
      "[Errno 2] No such file or directory: 'raw/aberturas-2024-10.csv'\n",
      "raw/aberturas-2024-11.csv\n",
      "[Errno 2] No such file or directory: 'raw/aberturas-2024-11.csv'\n",
      "raw/aberturas-2024-12.csv\n",
      "[Errno 2] No such file or directory: 'raw/aberturas-2024-12.csv'\n",
      "['hash_chave_abertura', 'ano', 'mês', 'porte', 'cod_natureza', 'descr_natureza', 'municipio', 'filial', 'qtd']\n",
      "raw/atividades-aberturas-2024-4.csv\n",
      "[Errno 2] No such file or directory: 'raw/atividades-aberturas-2024-4.csv'\n",
      "raw/atividades-aberturas-2024-5.csv\n",
      "[Errno 2] No such file or directory: 'raw/atividades-aberturas-2024-5.csv'\n",
      "raw/atividades-aberturas-2024-6.csv\n",
      "[Errno 2] No such file or directory: 'raw/atividades-aberturas-2024-6.csv'\n",
      "raw/atividades-aberturas-2024-7.csv\n",
      "[Errno 2] No such file or directory: 'raw/atividades-aberturas-2024-7.csv'\n",
      "raw/atividades-aberturas-2024-8.csv\n",
      "[Errno 2] No such file or directory: 'raw/atividades-aberturas-2024-8.csv'\n",
      "raw/atividades-aberturas-2024-9.csv\n",
      "[Errno 2] No such file or directory: 'raw/atividades-aberturas-2024-9.csv'\n",
      "raw/atividades-aberturas-2024-10.csv\n",
      "[Errno 2] No such file or directory: 'raw/atividades-aberturas-2024-10.csv'\n",
      "raw/atividades-aberturas-2024-11.csv\n",
      "[Errno 2] No such file or directory: 'raw/atividades-aberturas-2024-11.csv'\n",
      "raw/atividades-aberturas-2024-12.csv\n",
      "[Errno 2] No such file or directory: 'raw/atividades-aberturas-2024-12.csv'\n",
      "['hash_chave_abertura', 'cod_atividade', 'descr_atividade', 'seguimento', 'qtd']\n",
      "raw/tempo-aberturas-2018-1.csv\n",
      "[Errno 2] No such file or directory: 'raw/tempo-aberturas-2018-1.csv'\n",
      "raw/tempo-aberturas-2018-2.csv\n",
      "[Errno 2] No such file or directory: 'raw/tempo-aberturas-2018-2.csv'\n",
      "raw/tempo-aberturas-2018-3.csv\n",
      "[Errno 2] No such file or directory: 'raw/tempo-aberturas-2018-3.csv'\n",
      "raw/tempo-aberturas-2018-4.csv\n",
      "[Errno 2] No such file or directory: 'raw/tempo-aberturas-2018-4.csv'\n",
      "raw/tempo-aberturas-2018-5.csv\n",
      "[Errno 2] No such file or directory: 'raw/tempo-aberturas-2018-5.csv'\n",
      "raw/tempo-aberturas-2018-6.csv\n",
      "[Errno 2] No such file or directory: 'raw/tempo-aberturas-2018-6.csv'\n",
      "raw/tempo-aberturas-2018-7.csv\n",
      "[Errno 2] No such file or directory: 'raw/tempo-aberturas-2018-7.csv'\n",
      "raw/tempo-aberturas-2018-8.csv\n",
      "[Errno 2] No such file or directory: 'raw/tempo-aberturas-2018-8.csv'\n",
      "raw/tempo-aberturas-2018-9.csv\n",
      "[Errno 2] No such file or directory: 'raw/tempo-aberturas-2018-9.csv'\n",
      "raw/tempo-aberturas-2018-10.csv\n",
      "[Errno 2] No such file or directory: 'raw/tempo-aberturas-2018-10.csv'\n",
      "raw/tempo-aberturas-2018-11.csv\n",
      "[Errno 2] No such file or directory: 'raw/tempo-aberturas-2018-11.csv'\n",
      "raw/tempo-aberturas-2018-12.csv\n",
      "[Errno 2] No such file or directory: 'raw/tempo-aberturas-2018-12.csv'\n",
      "raw/tempo-aberturas-2024-5.csv\n",
      "[Errno 2] No such file or directory: 'raw/tempo-aberturas-2024-5.csv'\n",
      "raw/tempo-aberturas-2024-6.csv\n",
      "[Errno 2] No such file or directory: 'raw/tempo-aberturas-2024-6.csv'\n",
      "raw/tempo-aberturas-2024-7.csv\n",
      "[Errno 2] No such file or directory: 'raw/tempo-aberturas-2024-7.csv'\n",
      "raw/tempo-aberturas-2024-8.csv\n",
      "[Errno 2] No such file or directory: 'raw/tempo-aberturas-2024-8.csv'\n",
      "raw/tempo-aberturas-2024-9.csv\n",
      "[Errno 2] No such file or directory: 'raw/tempo-aberturas-2024-9.csv'\n",
      "raw/tempo-aberturas-2024-10.csv\n",
      "[Errno 2] No such file or directory: 'raw/tempo-aberturas-2024-10.csv'\n",
      "raw/tempo-aberturas-2024-11.csv\n",
      "[Errno 2] No such file or directory: 'raw/tempo-aberturas-2024-11.csv'\n",
      "raw/tempo-aberturas-2024-12.csv\n",
      "[Errno 2] No such file or directory: 'raw/tempo-aberturas-2024-12.csv'\n",
      "['ano', 'mês', 'serial', 'cod_natureza', 'natureza', 'municipio', 'cp_nome', 'cp_endereco', 'cp_total', 'registro']\n"
     ]
    }
   ],
   "source": [
    "concatenate_files(opening_companies_files, OPENING_COMPANIES_COLUMNS, f\"{OPENING_COMPANIES_FILE}-final.csv\")\n",
    "concatenate_files(opening_companies_activities_files, OPENING_COMPANIES_ACTIVITIES_COLUMNS, f\"{OPENING_COMPANIES_ACTIVITIES_FILE}-final.csv\")\n",
    "concatenate_files(opening_companies_time_series_files, OPENING_COMPANIES_TIME_SERIES_COLUMNS, f\"{OPENING_COMPANIES_TIME_SERIES_FILE}-final.csv\")"
   ]
  },
  {
   "cell_type": "code",
   "execution_count": 7,
   "metadata": {},
   "outputs": [],
   "source": [
    "df_active_companies = pd.read_csv(f\"{ACTIVE_COMPANIES_FILE}-final.csv\", sep=';', encoding='utf-8')\n",
    "df_active_companies_activities = pd.read_csv(f\"{ACTIVE_COMPANIES_ACTIVITIES_FILE}-final.csv\", sep=';', encoding='utf-8')"
   ]
  },
  {
   "cell_type": "code",
   "execution_count": 8,
   "metadata": {},
   "outputs": [],
   "source": [
    "df_opening_companies = pd.read_csv(f\"{OPENING_COMPANIES_FILE}-final.csv\", sep=';', encoding='utf-8')\n",
    "df_opening_companies_activities = pd.read_csv(f\"{OPENING_COMPANIES_ACTIVITIES_FILE}-final.csv\", sep=';', encoding='utf-8')\n",
    "df_opening_companies_time_series = pd.read_csv(f\"{OPENING_COMPANIES_TIME_SERIES_FILE}-final.csv\", sep=';', encoding='utf-8')"
   ]
  },
  {
   "cell_type": "code",
   "execution_count": 9,
   "metadata": {},
   "outputs": [
    {
     "name": "stdout",
     "output_type": "stream",
     "text": [
      "<class 'pandas.core.frame.DataFrame'>\n",
      "RangeIndex: 295320 entries, 0 to 295319\n",
      "Data columns (total 7 columns):\n",
      " #   Column        Non-Null Count   Dtype \n",
      "---  ------        --------------   ----- \n",
      " 0   hash_chave    295320 non-null  object\n",
      " 1   porte         295320 non-null  object\n",
      " 2   cod_natureza  295320 non-null  object\n",
      " 3   natureza      295320 non-null  object\n",
      " 4   municipio     295320 non-null  object\n",
      " 5   filial        295320 non-null  object\n",
      " 6   qtd           295320 non-null  int64 \n",
      "dtypes: int64(1), object(6)\n",
      "memory usage: 15.8+ MB\n",
      "['hash_chave', 'porte', 'cod_natureza', 'natureza', 'municipio', 'filial', 'qtd']\n",
      "34\n",
      "34\n",
      "295286\n"
     ]
    }
   ],
   "source": [
    "df_active_companies.info()\n",
    "print(list(df_active_companies.columns))\n",
    "print(df_active_companies.duplicated().sum())\n",
    "print(df_active_companies['hash_chave'].duplicated().sum())\n",
    "print(df_active_companies['hash_chave'].nunique())"
   ]
  },
  {
   "cell_type": "code",
   "execution_count": 10,
   "metadata": {},
   "outputs": [
    {
     "name": "stdout",
     "output_type": "stream",
     "text": [
      "<class 'pandas.core.frame.DataFrame'>\n",
      "RangeIndex: 1104892 entries, 0 to 1104891\n",
      "Data columns (total 6 columns):\n",
      " #   Column           Non-Null Count    Dtype \n",
      "---  ------           --------------    ----- \n",
      " 0   hash_chave       1104892 non-null  object\n",
      " 1   cod_atividade    1104892 non-null  object\n",
      " 2   descr_atividade  1104892 non-null  object\n",
      " 3   principal        1104892 non-null  object\n",
      " 4   seguimento       1104892 non-null  object\n",
      " 5   qtd              1104892 non-null  int64 \n",
      "dtypes: int64(1), object(5)\n",
      "memory usage: 50.6+ MB\n",
      "['hash_chave', 'cod_atividade', 'descr_atividade', 'principal', 'seguimento', 'qtd']\n",
      "72\n",
      "820133\n",
      "284759\n"
     ]
    }
   ],
   "source": [
    "df_active_companies_activities.info()\n",
    "print(list(df_active_companies_activities.columns))\n",
    "print(df_active_companies_activities.duplicated().sum())\n",
    "print(df_active_companies_activities['hash_chave'].duplicated().sum())\n",
    "print(df_active_companies_activities['hash_chave'].nunique())"
   ]
  },
  {
   "cell_type": "code",
   "execution_count": 11,
   "metadata": {},
   "outputs": [
    {
     "name": "stdout",
     "output_type": "stream",
     "text": [
      "<class 'pandas.core.frame.DataFrame'>\n",
      "RangeIndex: 170263 entries, 0 to 170262\n",
      "Data columns (total 9 columns):\n",
      " #   Column               Non-Null Count   Dtype \n",
      "---  ------               --------------   ----- \n",
      " 0   hash_chave_abertura  170263 non-null  object\n",
      " 1   ano                  170263 non-null  int64 \n",
      " 2   mês                  170263 non-null  object\n",
      " 3   porte                170263 non-null  object\n",
      " 4   cod_natureza         170263 non-null  object\n",
      " 5   descr_natureza       170263 non-null  object\n",
      " 6   municipio            170263 non-null  object\n",
      " 7   filial               170263 non-null  object\n",
      " 8   qtd                  170263 non-null  int64 \n",
      "dtypes: int64(2), object(7)\n",
      "memory usage: 11.7+ MB\n",
      "['hash_chave_abertura', 'ano', 'mês', 'porte', 'cod_natureza', 'descr_natureza', 'municipio', 'filial', 'qtd']\n",
      "4\n",
      "170259\n"
     ]
    }
   ],
   "source": [
    "df_opening_companies.info()\n",
    "print(list(df_opening_companies.columns))\n",
    "print(df_opening_companies.duplicated().sum())\n",
    "print(df_opening_companies[\"hash_chave_abertura\"].nunique())"
   ]
  },
  {
   "cell_type": "code",
   "execution_count": 12,
   "metadata": {},
   "outputs": [
    {
     "name": "stdout",
     "output_type": "stream",
     "text": [
      "<class 'pandas.core.frame.DataFrame'>\n",
      "RangeIndex: 604875 entries, 0 to 604874\n",
      "Data columns (total 5 columns):\n",
      " #   Column               Non-Null Count   Dtype \n",
      "---  ------               --------------   ----- \n",
      " 0   hash_chave_abertura  604875 non-null  object\n",
      " 1   cod_atividade        604875 non-null  object\n",
      " 2   descr_atividade      604873 non-null  object\n",
      " 3   seguimento           604873 non-null  object\n",
      " 4   qtd                  604875 non-null  int64 \n",
      "dtypes: int64(1), object(4)\n",
      "memory usage: 23.1+ MB\n",
      "['hash_chave_abertura', 'cod_atividade', 'descr_atividade', 'seguimento', 'qtd']\n",
      "33\n",
      "167373\n"
     ]
    }
   ],
   "source": [
    "df_opening_companies_activities.info()\n",
    "print(list(df_opening_companies_activities.columns))\n",
    "print(df_opening_companies_activities.duplicated().sum())\n",
    "print(df_opening_companies_activities[\"hash_chave_abertura\"].nunique())"
   ]
  },
  {
   "cell_type": "code",
   "execution_count": 13,
   "metadata": {},
   "outputs": [
    {
     "name": "stdout",
     "output_type": "stream",
     "text": [
      "<class 'pandas.core.frame.DataFrame'>\n",
      "RangeIndex: 27578 entries, 0 to 27577\n",
      "Data columns (total 10 columns):\n",
      " #   Column        Non-Null Count  Dtype \n",
      "---  ------        --------------  ----- \n",
      " 0   ano           27578 non-null  int64 \n",
      " 1   mês           27578 non-null  object\n",
      " 2   serial        27578 non-null  object\n",
      " 3   cod_natureza  27578 non-null  object\n",
      " 4   natureza      27578 non-null  object\n",
      " 5   municipio     27578 non-null  object\n",
      " 6   cp_nome       27578 non-null  object\n",
      " 7   cp_endereco   27578 non-null  object\n",
      " 8   cp_total      27578 non-null  object\n",
      " 9   registro      27578 non-null  object\n",
      "dtypes: int64(1), object(9)\n",
      "memory usage: 2.1+ MB\n",
      "['ano', 'mês', 'serial', 'cod_natureza', 'natureza', 'municipio', 'cp_nome', 'cp_endereco', 'cp_total', 'registro']\n",
      "0\n",
      "27578\n"
     ]
    }
   ],
   "source": [
    "df_opening_companies_time_series.info()\n",
    "print(list(df_opening_companies_time_series.columns))\n",
    "print(df_opening_companies_time_series.duplicated().sum())\n",
    "print(df_opening_companies_time_series[\"serial\"].nunique())"
   ]
  },
  {
   "cell_type": "code",
   "execution_count": 14,
   "metadata": {},
   "outputs": [],
   "source": [
    "df_opening = pd.merge(df_opening_companies, df_opening_companies_activities, on='hash_chave_abertura', how='left')\n",
    "df_opening[\"\"\n",
    "df_opening.to_csv(f\"opening-final.csv\", index=False, sep=\";\", decimal=\".\")"
   ]
  },
  {
   "cell_type": "code",
   "execution_count": null,
   "metadata": {},
   "outputs": [],
   "source": []
  }
 ],
 "metadata": {
  "kernelspec": {
   "display_name": "sined-api",
   "language": "python",
   "name": "python3"
  },
  "language_info": {
   "codemirror_mode": {
    "name": "ipython",
    "version": 3
   },
   "file_extension": ".py",
   "mimetype": "text/x-python",
   "name": "python",
   "nbconvert_exporter": "python",
   "pygments_lexer": "ipython3",
   "version": "3.11.9"
  }
 },
 "nbformat": 4,
 "nbformat_minor": 2
}
