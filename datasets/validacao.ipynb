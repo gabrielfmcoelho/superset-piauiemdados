{
 "cells": [
  {
   "cell_type": "code",
   "execution_count": 2,
   "metadata": {},
   "outputs": [],
   "source": [
    "import pandas as pd"
   ]
  },
  {
   "cell_type": "code",
   "execution_count": 6,
   "metadata": {},
   "outputs": [],
   "source": [
    "DATASETS_PATH = ''\n",
    "PREPROCESSED_PATH = DATASETS_PATH + 'preprocessed/'\n",
    "\n",
    "ACTIVE_COMPANIES_FILE = PREPROCESSED_PATH + 'empresas-ativas.csv'\n",
    "ACTIVE_COMPANIES_ACTIVITIES_FILE = PREPROCESSED_PATH + 'empresas-ativas-atividades.csv'\n",
    "OPENING_COMPANIES_FILE = PREPROCESSED_PATH + 'empresas-aberturas.csv'\n",
    "OPENING_COMPANIES_ACTIVITIES_FILE = PREPROCESSED_PATH + 'empresas_aberturas_atividades.csv'\n",
    "OPENING_COMPANIES_TIME_SERIES_FILE = PREPROCESSED_PATH + 'empresas_aberturas_serie_historica.csv'\n"
   ]
  },
  {
   "cell_type": "code",
   "execution_count": 7,
   "metadata": {},
   "outputs": [],
   "source": [
    "df_active_companies = pd.read_csv(ACTIVE_COMPANIES_FILE, sep=';', encoding='utf-8')\n",
    "df_active_companies_activities = pd.read_csv(ACTIVE_COMPANIES_ACTIVITIES_FILE, sep=';', encoding='utf-8')\n",
    "df_opening_companies = pd.read_csv(OPENING_COMPANIES_FILE, sep=';', encoding='utf-8')\n",
    "df_opening_companies_activities = pd.read_csv(OPENING_COMPANIES_ACTIVITIES_FILE, sep=';', encoding='utf-8')\n",
    "df_opening_companies_time_series = pd.read_csv(OPENING_COMPANIES_TIME_SERIES_FILE, sep=';', encoding='utf-8', decimal=',')"
   ]
  },
  {
   "cell_type": "code",
   "execution_count": 8,
   "metadata": {},
   "outputs": [
    {
     "name": "stdout",
     "output_type": "stream",
     "text": [
      "<class 'pandas.core.frame.DataFrame'>\n",
      "RangeIndex: 295155 entries, 0 to 295154\n",
      "Data columns (total 7 columns):\n",
      " #   Column        Non-Null Count   Dtype \n",
      "---  ------        --------------   ----- \n",
      " 0   hash_chave    295155 non-null  object\n",
      " 1   porte         295155 non-null  object\n",
      " 2   cod_natureza  295155 non-null  object\n",
      " 3   natureza      295155 non-null  object\n",
      " 4   municipio     295155 non-null  object\n",
      " 5   filial        295155 non-null  object\n",
      " 6   qtd           295155 non-null  int64 \n",
      "dtypes: int64(1), object(6)\n",
      "memory usage: 15.8+ MB\n"
     ]
    }
   ],
   "source": [
    "df_active_companies.info()"
   ]
  },
  {
   "cell_type": "code",
   "execution_count": 9,
   "metadata": {},
   "outputs": [
    {
     "name": "stdout",
     "output_type": "stream",
     "text": [
      "<class 'pandas.core.frame.DataFrame'>\n",
      "RangeIndex: 1103999 entries, 0 to 1103998\n",
      "Data columns (total 6 columns):\n",
      " #   Column           Non-Null Count    Dtype \n",
      "---  ------           --------------    ----- \n",
      " 0   hash_chave       1103999 non-null  object\n",
      " 1   cod_atividade    1103999 non-null  object\n",
      " 2   descr_atividade  1103999 non-null  object\n",
      " 3   principal        1103999 non-null  object\n",
      " 4   seguimento       1103999 non-null  object\n",
      " 5   qtd              1103999 non-null  int64 \n",
      "dtypes: int64(1), object(5)\n",
      "memory usage: 50.5+ MB\n"
     ]
    }
   ],
   "source": [
    "df_active_companies_activities.info()"
   ]
  },
  {
   "cell_type": "code",
   "execution_count": 10,
   "metadata": {},
   "outputs": [
    {
     "name": "stdout",
     "output_type": "stream",
     "text": [
      "<class 'pandas.core.frame.DataFrame'>\n",
      "RangeIndex: 170285 entries, 0 to 170284\n",
      "Data columns (total 9 columns):\n",
      " #   Column               Non-Null Count   Dtype \n",
      "---  ------               --------------   ----- \n",
      " 0   hash_chave_abertura  170285 non-null  object\n",
      " 1   ano                  170285 non-null  int64 \n",
      " 2   mês                  170285 non-null  object\n",
      " 3   porte                170285 non-null  object\n",
      " 4   cod_natureza         170285 non-null  object\n",
      " 5   descr_natureza       170285 non-null  object\n",
      " 6   municipio            170285 non-null  object\n",
      " 7   filial               170285 non-null  object\n",
      " 8   qtd                  170285 non-null  int64 \n",
      "dtypes: int64(2), object(7)\n",
      "memory usage: 11.7+ MB\n"
     ]
    }
   ],
   "source": [
    "df_opening_companies.info()"
   ]
  },
  {
   "cell_type": "code",
   "execution_count": 16,
   "metadata": {},
   "outputs": [
    {
     "data": {
      "text/plain": [
       "26"
      ]
     },
     "execution_count": 16,
     "metadata": {},
     "output_type": "execute_result"
    }
   ],
   "source": [
    "# group by the rows and find the number of duplicates\n",
    "df_opening_companies.duplicated().sum()"
   ]
  },
  {
   "cell_type": "code",
   "execution_count": 11,
   "metadata": {},
   "outputs": [
    {
     "name": "stdout",
     "output_type": "stream",
     "text": [
      "<class 'pandas.core.frame.DataFrame'>\n",
      "RangeIndex: 616250 entries, 0 to 616249\n",
      "Data columns (total 5 columns):\n",
      " #   Column               Non-Null Count   Dtype \n",
      "---  ------               --------------   ----- \n",
      " 0   hash_chave_abertura  616250 non-null  object\n",
      " 1   cod_atividade        616250 non-null  object\n",
      " 2   descr_atividade      616248 non-null  object\n",
      " 3   seguimento           616248 non-null  object\n",
      " 4   qtd                  616250 non-null  int64 \n",
      "dtypes: int64(1), object(4)\n",
      "memory usage: 23.5+ MB\n"
     ]
    }
   ],
   "source": [
    "df_opening_companies_activities.info()"
   ]
  },
  {
   "cell_type": "code",
   "execution_count": 12,
   "metadata": {},
   "outputs": [
    {
     "name": "stdout",
     "output_type": "stream",
     "text": [
      "<class 'pandas.core.frame.DataFrame'>\n",
      "RangeIndex: 27578 entries, 0 to 27577\n",
      "Data columns (total 15 columns):\n",
      " #   Column        Non-Null Count  Dtype  \n",
      "---  ------        --------------  -----  \n",
      " 0   ano           27578 non-null  int64  \n",
      " 1   mês           27578 non-null  object \n",
      " 2   serial        27578 non-null  object \n",
      " 3   cod_natureza  27578 non-null  object \n",
      " 4   natureza      27578 non-null  object \n",
      " 5   municipio     27578 non-null  object \n",
      " 6   cp_nome       27578 non-null  object \n",
      " 7   cp_endereco   27578 non-null  object \n",
      " 8   cp_total      27578 non-null  object \n",
      " 9   registro      27578 non-null  object \n",
      " 10  hh            27578 non-null  int64  \n",
      " 11  mm            27578 non-null  int64  \n",
      " 12  ss            27578 non-null  int64  \n",
      " 13  registro_hr   27578 non-null  float64\n",
      " 14  registro_min  27578 non-null  float64\n",
      "dtypes: float64(2), int64(4), object(9)\n",
      "memory usage: 3.2+ MB\n"
     ]
    }
   ],
   "source": [
    "df_opening_companies_time_series.info()"
   ]
  },
  {
   "cell_type": "code",
   "execution_count": null,
   "metadata": {},
   "outputs": [],
   "source": []
  }
 ],
 "metadata": {
  "kernelspec": {
   "display_name": "sined-api",
   "language": "python",
   "name": "python3"
  },
  "language_info": {
   "codemirror_mode": {
    "name": "ipython",
    "version": 3
   },
   "file_extension": ".py",
   "mimetype": "text/x-python",
   "name": "python",
   "nbconvert_exporter": "python",
   "pygments_lexer": "ipython3",
   "version": "3.11.9"
  }
 },
 "nbformat": 4,
 "nbformat_minor": 2
}
